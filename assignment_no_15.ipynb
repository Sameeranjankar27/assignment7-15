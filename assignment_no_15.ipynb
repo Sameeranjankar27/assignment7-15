{
  "nbformat": 4,
  "nbformat_minor": 0,
  "metadata": {
    "colab": {
      "provenance": []
    },
    "kernelspec": {
      "name": "python3",
      "display_name": "Python 3"
    },
    "language_info": {
      "name": "python"
    }
  },
  "cells": [
    {
      "cell_type": "code",
      "execution_count": null,
      "metadata": {
        "id": "-Dmndjmeb_kF"
      },
      "outputs": [],
      "source": [
        "    \"#### 1.How many seconds are in an hour? Use the interactive interpreter as a calculator and multiply the number of seconds in a minute (60) by the number of minutes in an hour (also 60).\"\n",
        "    \"print(60*60)\"\n"
      ]
    },
    {
      "cell_type": "code",
      "source": [
        "    \"#### 2. Assign the result from the previous task (seconds in an hour) to a variable called seconds_per_hour.\"\n",
        "seconds_per_hour = 60*60\n",
        "print(seconds_per_hour)\n"
      ],
      "metadata": {
        "id": "heBMx0iBcY0q"
      },
      "execution_count": null,
      "outputs": []
    },
    {
      "cell_type": "code",
      "source": [
        "#3. How many seconds do you think there are in a day? Make use of the variables seconds per hour and minutes per hour.\n",
        "minutes_per_hour = 60\n",
        "print(seconds_per_hour*24)\n"
      ],
      "metadata": {
        "id": "zMMJgokacY2-"
      },
      "execution_count": null,
      "outputs": []
    },
    {
      "cell_type": "code",
      "source": [
        "#4. Calculate seconds per day again, but this time save the result in a variable called seconds_per_day\n",
        "seconds_per_day = 24*60*60\n",
        "print(seconds_per_day)\n"
      ],
      "metadata": {
        "id": "kLAfODVNcY5M"
      },
      "execution_count": null,
      "outputs": []
    },
    {
      "cell_type": "code",
      "source": [
        "#5. Divide seconds_per_day by seconds_per_hour. Use floating-point (/) division.\n",
        "print(seconds_per_day/seconds_per_hour)\n"
      ],
      "metadata": {
        "id": "rC1pJIDvcY7H"
      },
      "execution_count": null,
      "outputs": []
    },
    {
      "cell_type": "code",
      "source": [
        "#6. Divide seconds_per_day by seconds_per_hour, using integer (//) division. Did this number agree with the floating-point value from the previous question, aside from the final .0?\n",
        "\n",
        "print(seconds_per_day//seconds_per_hour, end='')\n",
        "print(' -> yes this values agree with the floating point value from the previous question')\n"
      ],
      "metadata": {
        "id": "txrN4qMYcY9L"
      },
      "execution_count": null,
      "outputs": []
    },
    {
      "cell_type": "code",
      "source": [
        "#7. Write a generator, genPrimes, that returns the sequence of prime numbers on successive calls to its next() method: 2, 3, 5, 7, 11, ...\n",
        "def genPrimes():\n",
        "    n = 0\n",
        "    while True:\n",
        "        if n == 2 or n == 3 :\n",
        "            yield n\n",
        "        elif ((n-1)%6 == 0 or (n+1)%6 == 0) and n !=1:\n",
        "            yield n\n",
        "        n = n+1\n",
        "        \n",
        "output = genPrimes()\n",
        "for ele in range(5):\n",
        "    print(next(output))\n"
      ],
      "metadata": {
        "id": "4ahZiNwgcY_a"
      },
      "execution_count": null,
      "outputs": []
    },
    {
      "cell_type": "code",
      "source": [],
      "metadata": {
        "id": "utN1QIaCcZBu"
      },
      "execution_count": null,
      "outputs": []
    },
    {
      "cell_type": "code",
      "source": [],
      "metadata": {
        "id": "Oz09jEQdcZD4"
      },
      "execution_count": null,
      "outputs": []
    },
    {
      "cell_type": "code",
      "source": [],
      "metadata": {
        "id": "ZY-_PYMFcZHb"
      },
      "execution_count": null,
      "outputs": []
    }
  ]
}